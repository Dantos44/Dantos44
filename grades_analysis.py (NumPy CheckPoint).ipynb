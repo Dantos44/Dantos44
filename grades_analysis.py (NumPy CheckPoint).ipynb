{
 "cells": [
  {
   "cell_type": "markdown",
   "id": "479c90c1",
   "metadata": {},
   "source": [
    "What You're Aiming For\n",
    "\n",
    "Create a numpy array called \"grades\" that contains the following grades: [85, 90, 88, 92, 95, 80, 75, 98, 89, 83]\n",
    "\n",
    "\n",
    "Instructions\n",
    "\n",
    "Create a new file called \"grades_analysis.py\"\n",
    "\n",
    "Import the numpy library and create the \"grades\" array as specified above.\n",
    "\n",
    "Use numpy functions to calculate the mean, median, and standard deviation of the grades.\n",
    "\n",
    "Use numpy function to find the maximum and minimum of the grades.\n",
    "\n",
    "Use numpy function to sort the grades in ascending order.\n",
    "\n",
    "Use numpy function to find the index of the highest grade in the array.\n",
    "\n",
    "Use numpy function to count the number of students who scored above 90.\n",
    "\n",
    "Use numpy function to calculate the percentage of students who scored above 90.\n",
    "\n",
    "Use numpy function to calculate the percentage of students who scored below 75.\n",
    "\n",
    "Use numpy function to extract all the grades above 90 and put them in a new array called \"high_performers\".\n",
    "\n",
    "Create a new array called \"passing_grades\" that contains all the grades above 75.\n",
    "\n",
    "Print the result of all the above steps.\n",
    "\n",
    "Note:\n",
    "\n",
    "to calculate percentage use numpy.mean(grades > 90) * 100\n",
    "\n",
    "to extract the grades above 90 use grades[grades > 90]\n",
    "\n",
    "to extract the grades above 75 use grades[grades > 75]\n",
    "\n",
    "You can use other numpy functions as well to analyze the data as you want. The above steps are just examples of what can be done."
   ]
  },
  {
   "cell_type": "code",
   "execution_count": 1,
   "id": "eb13c270",
   "metadata": {},
   "outputs": [],
   "source": [
    "import numpy as np"
   ]
  },
  {
   "cell_type": "code",
   "execution_count": 2,
   "id": "4f214127",
   "metadata": {
    "scrolled": true
   },
   "outputs": [
    {
     "name": "stdout",
     "output_type": "stream",
     "text": [
      "Grades: [85 90 88 92 95 80 75 98 89 83]\n",
      "Mean: 87.5\n",
      "Median: 88.5\n",
      "Standard devaition: 6.591661399070799\n",
      "Max: 98\n",
      "Min: 75\n",
      "Sorted grades: [75 80 83 85 88 89 90 92 95 98]\n",
      "Index of highest grade: 7\n",
      "Number of students grades above 90: 3\n",
      "Precentage of students grades above 90: 30.0\n",
      "Precentage of students grades below 75: 0.0\n",
      "High performers: [92 95 98]\n",
      "Passing gardes: [85 90 88 92 95 80 98 89 83]\n"
     ]
    }
   ],
   "source": [
    "grades = np.array([85, 90, 88, 92, 95, 80, 75, 98, 89, 83])\n",
    "print(f'Grades: {grades}')\n",
    "\n",
    "_mean = np.mean(grades) #mean of grades\n",
    "print(f'Mean: {_mean}')\n",
    "_median = np.median(grades) #median of grades\n",
    "print(f'Median: {_median}') \n",
    "std_deviation = np.std(grades) #standard_deviation of grades\n",
    "print(f'Standard devaition: {std_deviation}') \n",
    "\n",
    "max_grade = np.max(grades) #maximum of grade\n",
    "print(f'Max: {max_grade}')\n",
    "min_grade = np.min(grades) #minimum of grade\n",
    "print(f'Min: {min_grade}')\n",
    "\n",
    "sorted_grades = np.sort(grades) #sorted grades\n",
    "print(f'Sorted grades: {sorted_grades}')\n",
    "\n",
    "index_highest_grade = np.argmax(grades) #index of highest grade\n",
    "print(f'Index of highest grade: {index_highest_grade}')\n",
    "\n",
    "above_90_count = np.sum(grades > 90) #number of students that scored above 90\n",
    "print(f'Number of students grades above 90: {above_90_count}')\n",
    "\n",
    "above_90_percentage = np.mean(grades > 90) * 100 #percentage of students that scored above 90\n",
    "print(f'Precentage of students grades above 90: {above_90_percentage}')\n",
    "\n",
    "below_75_percentage = np.mean(grades < 75) * 100 #percentage of students that scored below 75\n",
    "print(f'Precentage of students grades below 75: {below_75_percentage}')\n",
    "\n",
    "high_performers = grades[grades > 90] #high performers\n",
    "print(f'High performers: {high_performers}')\n",
    "\n",
    "passing_grades = grades[grades > 75] #passing grades above 75\n",
    "print(f'Passing gardes: {passing_grades}')"
   ]
  }
 ],
 "metadata": {
  "kernelspec": {
   "display_name": "Python 3 (ipykernel)",
   "language": "python",
   "name": "python3"
  },
  "language_info": {
   "codemirror_mode": {
    "name": "ipython",
    "version": 3
   },
   "file_extension": ".py",
   "mimetype": "text/x-python",
   "name": "python",
   "nbconvert_exporter": "python",
   "pygments_lexer": "ipython3",
   "version": "3.11.5"
  }
 },
 "nbformat": 4,
 "nbformat_minor": 5
}
